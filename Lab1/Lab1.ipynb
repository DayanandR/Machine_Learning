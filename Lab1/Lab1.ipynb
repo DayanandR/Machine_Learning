{
 "cells": [
  {
   "cell_type": "code",
   "execution_count": 4,
   "id": "f7bf5e07",
   "metadata": {},
   "outputs": [
    {
     "name": "stdout",
     "output_type": "stream",
     "text": [
      "['sunny' 'warm' '?' 'strong' '?' '?']\n"
     ]
    }
   ],
   "source": [
    "import pandas as pd\n",
    "import numpy as np\n",
    "data = pd.read_csv('lab1.csv')\n",
    "concepts=np.array(data)[:,:-1]\n",
    "target=np.array(data)[:,-1]\n",
    "def search(con,tar):\n",
    "    for i,val in enumerate(tar):\n",
    "        if val==\"yes\":\n",
    "            specifichyp=con[i].copy()\n",
    "            break\n",
    "    for i,val in enumerate(con):\n",
    "        if tar[i]==\"yes\":\n",
    "            for x in range(len(specifichyp)):\n",
    "                if val[x]!=specifichyp[x]:\n",
    "                    specifichyp[x]=\"?\"\n",
    "                else:\n",
    "                    pass\n",
    "    return specifichyp\n",
    "print(search(concepts,target))"
   ]
  },
  {
   "cell_type": "code",
   "execution_count": null,
   "id": "0943275d",
   "metadata": {},
   "outputs": [],
   "source": []
  }
 ],
 "metadata": {
  "kernelspec": {
   "display_name": "Python 3 (ipykernel)",
   "language": "python",
   "name": "python3"
  },
  "language_info": {
   "codemirror_mode": {
    "name": "ipython",
    "version": 3
   },
   "file_extension": ".py",
   "mimetype": "text/x-python",
   "name": "python",
   "nbconvert_exporter": "python",
   "pygments_lexer": "ipython3",
   "version": "3.10.4"
  }
 },
 "nbformat": 4,
 "nbformat_minor": 5
}
