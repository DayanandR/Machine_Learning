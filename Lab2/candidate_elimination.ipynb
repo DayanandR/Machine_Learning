{
 "cells": [
  {
   "cell_type": "code",
   "execution_count": 6,
   "id": "81aeb573",
   "metadata": {},
   "outputs": [
    {
     "name": "stdout",
     "output_type": "stream",
     "text": [
      "['sunny' 'warm' '?' 'strong' '?' '?']\n",
      "[['sunny', '?', '?', '?', '?', '?'], ['?', 'warm', '?', '?', '?', '?']]\n"
     ]
    }
   ],
   "source": [
    "import numpy as np\n",
    "import pandas as pd\n",
    "data=pd.read_csv('data.csv')\n",
    "concepts=np.array(data)[0:,:-1]\n",
    "target=np.array(data)[0:,-1]\n",
    "\n",
    "def candidate_elimination(con,tar):\n",
    "    s_hyp=con[0].copy()\n",
    "    g_hyp=[[\"?\" for i in range(len(s_hyp))] for i in range(len(s_hyp))]\n",
    "    \n",
    "    for i,val in enumerate(con):\n",
    "        if tar[i]==\"yes\":\n",
    "            for x in range(len(s_hyp)):\n",
    "                if val[x]!=s_hyp[x]:\n",
    "                    s_hyp[x]=\"?\"\n",
    "                    g_hyp[x][x]=\"?\"\n",
    "        if tar[i]==\"no\":\n",
    "            for x in range(len(s_hyp)):\n",
    "                if val[x]!=s_hyp[x]:\n",
    "                    g_hyp[x][x]=s_hyp[x]\n",
    "                else:\n",
    "                    g_hyp[x][x]=\"?\"\n",
    "    indices=[i for i,val in enumerate(g_hyp) if val==[\"?\",\"?\",\"?\",\"?\",\"?\",\"?\"]]\n",
    "    for i in indices:\n",
    "        g_hyp.remove([\"?\",\"?\",\"?\",\"?\",\"?\",\"?\"])\n",
    "    return s_hyp,g_hyp\n",
    "\n",
    "s_final,g_final=candidate_elimination(concepts,target)\n",
    "print(s_final)\n",
    "print(g_final)"
   ]
  },
  {
   "cell_type": "code",
   "execution_count": null,
   "id": "04e7872b",
   "metadata": {},
   "outputs": [],
   "source": []
  }
 ],
 "metadata": {
  "kernelspec": {
   "display_name": "Python 3 (ipykernel)",
   "language": "python",
   "name": "python3"
  },
  "language_info": {
   "codemirror_mode": {
    "name": "ipython",
    "version": 3
   },
   "file_extension": ".py",
   "mimetype": "text/x-python",
   "name": "python",
   "nbconvert_exporter": "python",
   "pygments_lexer": "ipython3",
   "version": "3.9.7"
  }
 },
 "nbformat": 4,
 "nbformat_minor": 5
}
